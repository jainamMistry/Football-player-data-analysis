{
 "cells": [
  {
   "cell_type": "code",
   "execution_count": 2,
   "id": "e7bc0d22",
   "metadata": {},
   "outputs": [],
   "source": [
    "import numpy as np\n",
    "import pandas as pd\n",
    "import matplotlib.pyplot as plt\n",
    "import seaborn as sns"
   ]
  },
  {
   "cell_type": "markdown",
   "id": "eecbeeb1",
   "metadata": {},
   "source": [
    "# Data Loading"
   ]
  },
  {
   "cell_type": "code",
   "execution_count": 3,
   "id": "d1e62405",
   "metadata": {},
   "outputs": [
    {
     "data": {
      "text/html": [
       "<div>\n",
       "<style scoped>\n",
       "    .dataframe tbody tr th:only-of-type {\n",
       "        vertical-align: middle;\n",
       "    }\n",
       "\n",
       "    .dataframe tbody tr th {\n",
       "        vertical-align: top;\n",
       "    }\n",
       "\n",
       "    .dataframe thead th {\n",
       "        text-align: right;\n",
       "    }\n",
       "</style>\n",
       "<table border=\"1\" class=\"dataframe\">\n",
       "  <thead>\n",
       "    <tr style=\"text-align: right;\">\n",
       "      <th></th>\n",
       "      <th>ID</th>\n",
       "      <th>Name</th>\n",
       "      <th>Age</th>\n",
       "      <th>Nationality</th>\n",
       "      <th>Overall</th>\n",
       "      <th>Potential</th>\n",
       "      <th>Club</th>\n",
       "      <th>Value</th>\n",
       "      <th>Wage</th>\n",
       "      <th>Preferred Foot</th>\n",
       "      <th>...</th>\n",
       "      <th>Composure</th>\n",
       "      <th>Marking</th>\n",
       "      <th>StandingTackle</th>\n",
       "      <th>SlidingTackle</th>\n",
       "      <th>GKDiving</th>\n",
       "      <th>GKHandling</th>\n",
       "      <th>GKKicking</th>\n",
       "      <th>GKPositioning</th>\n",
       "      <th>GKReflexes</th>\n",
       "      <th>Release Clause</th>\n",
       "    </tr>\n",
       "  </thead>\n",
       "  <tbody>\n",
       "    <tr>\n",
       "      <th>0</th>\n",
       "      <td>158023</td>\n",
       "      <td>L. Messi</td>\n",
       "      <td>31</td>\n",
       "      <td>Argentina</td>\n",
       "      <td>94</td>\n",
       "      <td>94</td>\n",
       "      <td>FC Barcelona</td>\n",
       "      <td>€110.5M</td>\n",
       "      <td>€565K</td>\n",
       "      <td>Left</td>\n",
       "      <td>...</td>\n",
       "      <td>96.0</td>\n",
       "      <td>33.0</td>\n",
       "      <td>28.0</td>\n",
       "      <td>26.0</td>\n",
       "      <td>6.0</td>\n",
       "      <td>11.0</td>\n",
       "      <td>15.0</td>\n",
       "      <td>14.0</td>\n",
       "      <td>8.0</td>\n",
       "      <td>€226.5M</td>\n",
       "    </tr>\n",
       "    <tr>\n",
       "      <th>1</th>\n",
       "      <td>20801</td>\n",
       "      <td>Cristiano Ronaldo</td>\n",
       "      <td>33</td>\n",
       "      <td>Portugal</td>\n",
       "      <td>94</td>\n",
       "      <td>94</td>\n",
       "      <td>Juventus</td>\n",
       "      <td>€77M</td>\n",
       "      <td>€405K</td>\n",
       "      <td>Right</td>\n",
       "      <td>...</td>\n",
       "      <td>95.0</td>\n",
       "      <td>28.0</td>\n",
       "      <td>31.0</td>\n",
       "      <td>23.0</td>\n",
       "      <td>7.0</td>\n",
       "      <td>11.0</td>\n",
       "      <td>15.0</td>\n",
       "      <td>14.0</td>\n",
       "      <td>11.0</td>\n",
       "      <td>€127.1M</td>\n",
       "    </tr>\n",
       "    <tr>\n",
       "      <th>2</th>\n",
       "      <td>190871</td>\n",
       "      <td>Neymar Jr</td>\n",
       "      <td>26</td>\n",
       "      <td>Brazil</td>\n",
       "      <td>92</td>\n",
       "      <td>93</td>\n",
       "      <td>Paris Saint-Germain</td>\n",
       "      <td>€118.5M</td>\n",
       "      <td>€290K</td>\n",
       "      <td>Right</td>\n",
       "      <td>...</td>\n",
       "      <td>94.0</td>\n",
       "      <td>27.0</td>\n",
       "      <td>24.0</td>\n",
       "      <td>33.0</td>\n",
       "      <td>9.0</td>\n",
       "      <td>9.0</td>\n",
       "      <td>15.0</td>\n",
       "      <td>15.0</td>\n",
       "      <td>11.0</td>\n",
       "      <td>€228.1M</td>\n",
       "    </tr>\n",
       "    <tr>\n",
       "      <th>3</th>\n",
       "      <td>193080</td>\n",
       "      <td>De Gea</td>\n",
       "      <td>27</td>\n",
       "      <td>Spain</td>\n",
       "      <td>91</td>\n",
       "      <td>93</td>\n",
       "      <td>Manchester United</td>\n",
       "      <td>€72M</td>\n",
       "      <td>€260K</td>\n",
       "      <td>Right</td>\n",
       "      <td>...</td>\n",
       "      <td>68.0</td>\n",
       "      <td>15.0</td>\n",
       "      <td>21.0</td>\n",
       "      <td>13.0</td>\n",
       "      <td>90.0</td>\n",
       "      <td>85.0</td>\n",
       "      <td>87.0</td>\n",
       "      <td>88.0</td>\n",
       "      <td>94.0</td>\n",
       "      <td>€138.6M</td>\n",
       "    </tr>\n",
       "    <tr>\n",
       "      <th>4</th>\n",
       "      <td>192985</td>\n",
       "      <td>K. De Bruyne</td>\n",
       "      <td>27</td>\n",
       "      <td>Belgium</td>\n",
       "      <td>91</td>\n",
       "      <td>92</td>\n",
       "      <td>Manchester City</td>\n",
       "      <td>€102M</td>\n",
       "      <td>€355K</td>\n",
       "      <td>Right</td>\n",
       "      <td>...</td>\n",
       "      <td>88.0</td>\n",
       "      <td>68.0</td>\n",
       "      <td>58.0</td>\n",
       "      <td>51.0</td>\n",
       "      <td>15.0</td>\n",
       "      <td>13.0</td>\n",
       "      <td>5.0</td>\n",
       "      <td>10.0</td>\n",
       "      <td>13.0</td>\n",
       "      <td>€196.4M</td>\n",
       "    </tr>\n",
       "  </tbody>\n",
       "</table>\n",
       "<p>5 rows × 57 columns</p>\n",
       "</div>"
      ],
      "text/plain": [
       "       ID               Name  Age Nationality  Overall  Potential  \\\n",
       "0  158023           L. Messi   31   Argentina       94         94   \n",
       "1   20801  Cristiano Ronaldo   33    Portugal       94         94   \n",
       "2  190871          Neymar Jr   26      Brazil       92         93   \n",
       "3  193080             De Gea   27       Spain       91         93   \n",
       "4  192985       K. De Bruyne   27     Belgium       91         92   \n",
       "\n",
       "                  Club    Value   Wage Preferred Foot  ...  Composure  \\\n",
       "0         FC Barcelona  €110.5M  €565K           Left  ...       96.0   \n",
       "1             Juventus     €77M  €405K          Right  ...       95.0   \n",
       "2  Paris Saint-Germain  €118.5M  €290K          Right  ...       94.0   \n",
       "3    Manchester United     €72M  €260K          Right  ...       68.0   \n",
       "4      Manchester City    €102M  €355K          Right  ...       88.0   \n",
       "\n",
       "   Marking  StandingTackle SlidingTackle GKDiving GKHandling  GKKicking  \\\n",
       "0     33.0            28.0          26.0      6.0       11.0       15.0   \n",
       "1     28.0            31.0          23.0      7.0       11.0       15.0   \n",
       "2     27.0            24.0          33.0      9.0        9.0       15.0   \n",
       "3     15.0            21.0          13.0     90.0       85.0       87.0   \n",
       "4     68.0            58.0          51.0     15.0       13.0        5.0   \n",
       "\n",
       "  GKPositioning GKReflexes Release Clause  \n",
       "0          14.0        8.0        €226.5M  \n",
       "1          14.0       11.0        €127.1M  \n",
       "2          15.0       11.0        €228.1M  \n",
       "3          88.0       94.0        €138.6M  \n",
       "4          10.0       13.0        €196.4M  \n",
       "\n",
       "[5 rows x 57 columns]"
      ]
     },
     "execution_count": 3,
     "metadata": {},
     "output_type": "execute_result"
    }
   ],
   "source": [
    "data = pd.read_csv('fifa_eda_stats.csv')\n",
    "data.head()"
   ]
  },
  {
   "cell_type": "code",
   "execution_count": 6,
   "id": "eaf6c246",
   "metadata": {},
   "outputs": [
    {
     "data": {
      "text/html": [
       "<div>\n",
       "<style scoped>\n",
       "    .dataframe tbody tr th:only-of-type {\n",
       "        vertical-align: middle;\n",
       "    }\n",
       "\n",
       "    .dataframe tbody tr th {\n",
       "        vertical-align: top;\n",
       "    }\n",
       "\n",
       "    .dataframe thead th {\n",
       "        text-align: right;\n",
       "    }\n",
       "</style>\n",
       "<table border=\"1\" class=\"dataframe\">\n",
       "  <thead>\n",
       "    <tr style=\"text-align: right;\">\n",
       "      <th></th>\n",
       "      <th>ID</th>\n",
       "      <th>Age</th>\n",
       "      <th>Overall</th>\n",
       "      <th>Potential</th>\n",
       "      <th>International Reputation</th>\n",
       "      <th>Weak Foot</th>\n",
       "      <th>Skill Moves</th>\n",
       "      <th>Jersey Number</th>\n",
       "      <th>Crossing</th>\n",
       "      <th>Finishing</th>\n",
       "      <th>...</th>\n",
       "      <th>Penalties</th>\n",
       "      <th>Composure</th>\n",
       "      <th>Marking</th>\n",
       "      <th>StandingTackle</th>\n",
       "      <th>SlidingTackle</th>\n",
       "      <th>GKDiving</th>\n",
       "      <th>GKHandling</th>\n",
       "      <th>GKKicking</th>\n",
       "      <th>GKPositioning</th>\n",
       "      <th>GKReflexes</th>\n",
       "    </tr>\n",
       "  </thead>\n",
       "  <tbody>\n",
       "    <tr>\n",
       "      <th>count</th>\n",
       "      <td>18207.000000</td>\n",
       "      <td>18207.000000</td>\n",
       "      <td>18207.000000</td>\n",
       "      <td>18207.000000</td>\n",
       "      <td>18159.000000</td>\n",
       "      <td>18159.000000</td>\n",
       "      <td>18159.000000</td>\n",
       "      <td>18147.000000</td>\n",
       "      <td>18159.000000</td>\n",
       "      <td>18159.000000</td>\n",
       "      <td>...</td>\n",
       "      <td>18159.000000</td>\n",
       "      <td>18159.000000</td>\n",
       "      <td>18159.000000</td>\n",
       "      <td>18159.000000</td>\n",
       "      <td>18159.000000</td>\n",
       "      <td>18159.000000</td>\n",
       "      <td>18159.000000</td>\n",
       "      <td>18159.000000</td>\n",
       "      <td>18159.000000</td>\n",
       "      <td>18159.000000</td>\n",
       "    </tr>\n",
       "    <tr>\n",
       "      <th>mean</th>\n",
       "      <td>214298.338606</td>\n",
       "      <td>25.122206</td>\n",
       "      <td>66.238699</td>\n",
       "      <td>71.307299</td>\n",
       "      <td>1.113222</td>\n",
       "      <td>2.947299</td>\n",
       "      <td>2.361308</td>\n",
       "      <td>19.546096</td>\n",
       "      <td>49.734181</td>\n",
       "      <td>45.550911</td>\n",
       "      <td>...</td>\n",
       "      <td>48.548598</td>\n",
       "      <td>58.648274</td>\n",
       "      <td>47.281623</td>\n",
       "      <td>47.697836</td>\n",
       "      <td>45.661435</td>\n",
       "      <td>16.616223</td>\n",
       "      <td>16.391596</td>\n",
       "      <td>16.232061</td>\n",
       "      <td>16.388898</td>\n",
       "      <td>16.710887</td>\n",
       "    </tr>\n",
       "    <tr>\n",
       "      <th>std</th>\n",
       "      <td>29965.244204</td>\n",
       "      <td>4.669943</td>\n",
       "      <td>6.908930</td>\n",
       "      <td>6.136496</td>\n",
       "      <td>0.394031</td>\n",
       "      <td>0.660456</td>\n",
       "      <td>0.756164</td>\n",
       "      <td>15.947765</td>\n",
       "      <td>18.364524</td>\n",
       "      <td>19.525820</td>\n",
       "      <td>...</td>\n",
       "      <td>15.704053</td>\n",
       "      <td>11.436133</td>\n",
       "      <td>19.904397</td>\n",
       "      <td>21.664004</td>\n",
       "      <td>21.289135</td>\n",
       "      <td>17.695349</td>\n",
       "      <td>16.906900</td>\n",
       "      <td>16.502864</td>\n",
       "      <td>17.034669</td>\n",
       "      <td>17.955119</td>\n",
       "    </tr>\n",
       "    <tr>\n",
       "      <th>min</th>\n",
       "      <td>16.000000</td>\n",
       "      <td>16.000000</td>\n",
       "      <td>46.000000</td>\n",
       "      <td>48.000000</td>\n",
       "      <td>1.000000</td>\n",
       "      <td>1.000000</td>\n",
       "      <td>1.000000</td>\n",
       "      <td>1.000000</td>\n",
       "      <td>5.000000</td>\n",
       "      <td>2.000000</td>\n",
       "      <td>...</td>\n",
       "      <td>5.000000</td>\n",
       "      <td>3.000000</td>\n",
       "      <td>3.000000</td>\n",
       "      <td>2.000000</td>\n",
       "      <td>3.000000</td>\n",
       "      <td>1.000000</td>\n",
       "      <td>1.000000</td>\n",
       "      <td>1.000000</td>\n",
       "      <td>1.000000</td>\n",
       "      <td>1.000000</td>\n",
       "    </tr>\n",
       "    <tr>\n",
       "      <th>25%</th>\n",
       "      <td>200315.500000</td>\n",
       "      <td>21.000000</td>\n",
       "      <td>62.000000</td>\n",
       "      <td>67.000000</td>\n",
       "      <td>1.000000</td>\n",
       "      <td>3.000000</td>\n",
       "      <td>2.000000</td>\n",
       "      <td>8.000000</td>\n",
       "      <td>38.000000</td>\n",
       "      <td>30.000000</td>\n",
       "      <td>...</td>\n",
       "      <td>39.000000</td>\n",
       "      <td>51.000000</td>\n",
       "      <td>30.000000</td>\n",
       "      <td>27.000000</td>\n",
       "      <td>24.000000</td>\n",
       "      <td>8.000000</td>\n",
       "      <td>8.000000</td>\n",
       "      <td>8.000000</td>\n",
       "      <td>8.000000</td>\n",
       "      <td>8.000000</td>\n",
       "    </tr>\n",
       "    <tr>\n",
       "      <th>50%</th>\n",
       "      <td>221759.000000</td>\n",
       "      <td>25.000000</td>\n",
       "      <td>66.000000</td>\n",
       "      <td>71.000000</td>\n",
       "      <td>1.000000</td>\n",
       "      <td>3.000000</td>\n",
       "      <td>2.000000</td>\n",
       "      <td>17.000000</td>\n",
       "      <td>54.000000</td>\n",
       "      <td>49.000000</td>\n",
       "      <td>...</td>\n",
       "      <td>49.000000</td>\n",
       "      <td>60.000000</td>\n",
       "      <td>53.000000</td>\n",
       "      <td>55.000000</td>\n",
       "      <td>52.000000</td>\n",
       "      <td>11.000000</td>\n",
       "      <td>11.000000</td>\n",
       "      <td>11.000000</td>\n",
       "      <td>11.000000</td>\n",
       "      <td>11.000000</td>\n",
       "    </tr>\n",
       "    <tr>\n",
       "      <th>75%</th>\n",
       "      <td>236529.500000</td>\n",
       "      <td>28.000000</td>\n",
       "      <td>71.000000</td>\n",
       "      <td>75.000000</td>\n",
       "      <td>1.000000</td>\n",
       "      <td>3.000000</td>\n",
       "      <td>3.000000</td>\n",
       "      <td>26.000000</td>\n",
       "      <td>64.000000</td>\n",
       "      <td>62.000000</td>\n",
       "      <td>...</td>\n",
       "      <td>60.000000</td>\n",
       "      <td>67.000000</td>\n",
       "      <td>64.000000</td>\n",
       "      <td>66.000000</td>\n",
       "      <td>64.000000</td>\n",
       "      <td>14.000000</td>\n",
       "      <td>14.000000</td>\n",
       "      <td>14.000000</td>\n",
       "      <td>14.000000</td>\n",
       "      <td>14.000000</td>\n",
       "    </tr>\n",
       "    <tr>\n",
       "      <th>max</th>\n",
       "      <td>246620.000000</td>\n",
       "      <td>45.000000</td>\n",
       "      <td>94.000000</td>\n",
       "      <td>95.000000</td>\n",
       "      <td>5.000000</td>\n",
       "      <td>5.000000</td>\n",
       "      <td>5.000000</td>\n",
       "      <td>99.000000</td>\n",
       "      <td>93.000000</td>\n",
       "      <td>95.000000</td>\n",
       "      <td>...</td>\n",
       "      <td>92.000000</td>\n",
       "      <td>96.000000</td>\n",
       "      <td>94.000000</td>\n",
       "      <td>93.000000</td>\n",
       "      <td>91.000000</td>\n",
       "      <td>90.000000</td>\n",
       "      <td>92.000000</td>\n",
       "      <td>91.000000</td>\n",
       "      <td>90.000000</td>\n",
       "      <td>94.000000</td>\n",
       "    </tr>\n",
       "  </tbody>\n",
       "</table>\n",
       "<p>8 rows × 42 columns</p>\n",
       "</div>"
      ],
      "text/plain": [
       "                  ID           Age       Overall     Potential  \\\n",
       "count   18207.000000  18207.000000  18207.000000  18207.000000   \n",
       "mean   214298.338606     25.122206     66.238699     71.307299   \n",
       "std     29965.244204      4.669943      6.908930      6.136496   \n",
       "min        16.000000     16.000000     46.000000     48.000000   \n",
       "25%    200315.500000     21.000000     62.000000     67.000000   \n",
       "50%    221759.000000     25.000000     66.000000     71.000000   \n",
       "75%    236529.500000     28.000000     71.000000     75.000000   \n",
       "max    246620.000000     45.000000     94.000000     95.000000   \n",
       "\n",
       "       International Reputation     Weak Foot   Skill Moves  Jersey Number  \\\n",
       "count              18159.000000  18159.000000  18159.000000   18147.000000   \n",
       "mean                   1.113222      2.947299      2.361308      19.546096   \n",
       "std                    0.394031      0.660456      0.756164      15.947765   \n",
       "min                    1.000000      1.000000      1.000000       1.000000   \n",
       "25%                    1.000000      3.000000      2.000000       8.000000   \n",
       "50%                    1.000000      3.000000      2.000000      17.000000   \n",
       "75%                    1.000000      3.000000      3.000000      26.000000   \n",
       "max                    5.000000      5.000000      5.000000      99.000000   \n",
       "\n",
       "           Crossing     Finishing  ...     Penalties     Composure  \\\n",
       "count  18159.000000  18159.000000  ...  18159.000000  18159.000000   \n",
       "mean      49.734181     45.550911  ...     48.548598     58.648274   \n",
       "std       18.364524     19.525820  ...     15.704053     11.436133   \n",
       "min        5.000000      2.000000  ...      5.000000      3.000000   \n",
       "25%       38.000000     30.000000  ...     39.000000     51.000000   \n",
       "50%       54.000000     49.000000  ...     49.000000     60.000000   \n",
       "75%       64.000000     62.000000  ...     60.000000     67.000000   \n",
       "max       93.000000     95.000000  ...     92.000000     96.000000   \n",
       "\n",
       "            Marking  StandingTackle  SlidingTackle      GKDiving  \\\n",
       "count  18159.000000    18159.000000   18159.000000  18159.000000   \n",
       "mean      47.281623       47.697836      45.661435     16.616223   \n",
       "std       19.904397       21.664004      21.289135     17.695349   \n",
       "min        3.000000        2.000000       3.000000      1.000000   \n",
       "25%       30.000000       27.000000      24.000000      8.000000   \n",
       "50%       53.000000       55.000000      52.000000     11.000000   \n",
       "75%       64.000000       66.000000      64.000000     14.000000   \n",
       "max       94.000000       93.000000      91.000000     90.000000   \n",
       "\n",
       "         GKHandling     GKKicking  GKPositioning    GKReflexes  \n",
       "count  18159.000000  18159.000000   18159.000000  18159.000000  \n",
       "mean      16.391596     16.232061      16.388898     16.710887  \n",
       "std       16.906900     16.502864      17.034669     17.955119  \n",
       "min        1.000000      1.000000       1.000000      1.000000  \n",
       "25%        8.000000      8.000000       8.000000      8.000000  \n",
       "50%       11.000000     11.000000      11.000000     11.000000  \n",
       "75%       14.000000     14.000000      14.000000     14.000000  \n",
       "max       92.000000     91.000000      90.000000     94.000000  \n",
       "\n",
       "[8 rows x 42 columns]"
      ]
     },
     "execution_count": 6,
     "metadata": {},
     "output_type": "execute_result"
    }
   ],
   "source": [
    "data.describe()"
   ]
  },
  {
   "cell_type": "markdown",
   "id": "df0b1207",
   "metadata": {},
   "source": [
    "# Explore Data Set"
   ]
  },
  {
   "cell_type": "code",
   "execution_count": 8,
   "id": "dc98b5cb",
   "metadata": {},
   "outputs": [
    {
     "data": {
      "text/plain": [
       "(18207, 57)"
      ]
     },
     "execution_count": 8,
     "metadata": {},
     "output_type": "execute_result"
    }
   ],
   "source": [
    "data.shape"
   ]
  },
  {
   "cell_type": "code",
   "execution_count": 10,
   "id": "884d2ce0",
   "metadata": {},
   "outputs": [
    {
     "name": "stdout",
     "output_type": "stream",
     "text": [
      "<class 'pandas.core.frame.DataFrame'>\n",
      "RangeIndex: 18207 entries, 0 to 18206\n",
      "Data columns (total 57 columns):\n",
      " #   Column                    Non-Null Count  Dtype  \n",
      "---  ------                    --------------  -----  \n",
      " 0   ID                        18207 non-null  int64  \n",
      " 1   Name                      18207 non-null  object \n",
      " 2   Age                       18207 non-null  int64  \n",
      " 3   Nationality               18207 non-null  object \n",
      " 4   Overall                   18207 non-null  int64  \n",
      " 5   Potential                 18207 non-null  int64  \n",
      " 6   Club                      17966 non-null  object \n",
      " 7   Value                     18207 non-null  object \n",
      " 8   Wage                      18207 non-null  object \n",
      " 9   Preferred Foot            18159 non-null  object \n",
      " 10  International Reputation  18159 non-null  float64\n",
      " 11  Weak Foot                 18159 non-null  float64\n",
      " 12  Skill Moves               18159 non-null  float64\n",
      " 13  Work Rate                 18159 non-null  object \n",
      " 14  Body Type                 18159 non-null  object \n",
      " 15  Position                  18147 non-null  object \n",
      " 16  Jersey Number             18147 non-null  float64\n",
      " 17  Joined                    16654 non-null  object \n",
      " 18  Loaned From               1264 non-null   object \n",
      " 19  Contract Valid Until      17918 non-null  object \n",
      " 20  Height                    18159 non-null  object \n",
      " 21  Weight                    18159 non-null  object \n",
      " 22  Crossing                  18159 non-null  float64\n",
      " 23  Finishing                 18159 non-null  float64\n",
      " 24  HeadingAccuracy           18159 non-null  float64\n",
      " 25  ShortPassing              18159 non-null  float64\n",
      " 26  Volleys                   18159 non-null  float64\n",
      " 27  Dribbling                 18159 non-null  float64\n",
      " 28  Curve                     18159 non-null  float64\n",
      " 29  FKAccuracy                18159 non-null  float64\n",
      " 30  LongPassing               18159 non-null  float64\n",
      " 31  BallControl               18159 non-null  float64\n",
      " 32  Acceleration              18159 non-null  float64\n",
      " 33  SprintSpeed               18159 non-null  float64\n",
      " 34  Agility                   18159 non-null  float64\n",
      " 35  Reactions                 18159 non-null  float64\n",
      " 36  Balance                   18159 non-null  float64\n",
      " 37  ShotPower                 18159 non-null  float64\n",
      " 38  Jumping                   18159 non-null  float64\n",
      " 39  Stamina                   18159 non-null  float64\n",
      " 40  Strength                  18159 non-null  float64\n",
      " 41  LongShots                 18159 non-null  float64\n",
      " 42  Aggression                18159 non-null  float64\n",
      " 43  Interceptions             18159 non-null  float64\n",
      " 44  Positioning               18159 non-null  float64\n",
      " 45  Vision                    18159 non-null  float64\n",
      " 46  Penalties                 18159 non-null  float64\n",
      " 47  Composure                 18159 non-null  float64\n",
      " 48  Marking                   18159 non-null  float64\n",
      " 49  StandingTackle            18159 non-null  float64\n",
      " 50  SlidingTackle             18159 non-null  float64\n",
      " 51  GKDiving                  18159 non-null  float64\n",
      " 52  GKHandling                18159 non-null  float64\n",
      " 53  GKKicking                 18159 non-null  float64\n",
      " 54  GKPositioning             18159 non-null  float64\n",
      " 55  GKReflexes                18159 non-null  float64\n",
      " 56  Release Clause            16643 non-null  object \n",
      "dtypes: float64(38), int64(4), object(15)\n",
      "memory usage: 7.9+ MB\n"
     ]
    }
   ],
   "source": [
    "data.info()"
   ]
  },
  {
   "cell_type": "code",
   "execution_count": 11,
   "id": "de159a9e",
   "metadata": {},
   "outputs": [
    {
     "data": {
      "text/plain": [
       "ID                          18207\n",
       "Name                        18207\n",
       "Age                         18207\n",
       "Nationality                 18207\n",
       "Overall                     18207\n",
       "Potential                   18207\n",
       "Club                        17966\n",
       "Value                       18207\n",
       "Wage                        18207\n",
       "Preferred Foot              18159\n",
       "International Reputation    18159\n",
       "Weak Foot                   18159\n",
       "Skill Moves                 18159\n",
       "Work Rate                   18159\n",
       "Body Type                   18159\n",
       "Position                    18147\n",
       "Jersey Number               18147\n",
       "Joined                      16654\n",
       "Loaned From                  1264\n",
       "Contract Valid Until        17918\n",
       "Height                      18159\n",
       "Weight                      18159\n",
       "Crossing                    18159\n",
       "Finishing                   18159\n",
       "HeadingAccuracy             18159\n",
       "ShortPassing                18159\n",
       "Volleys                     18159\n",
       "Dribbling                   18159\n",
       "Curve                       18159\n",
       "FKAccuracy                  18159\n",
       "LongPassing                 18159\n",
       "BallControl                 18159\n",
       "Acceleration                18159\n",
       "SprintSpeed                 18159\n",
       "Agility                     18159\n",
       "Reactions                   18159\n",
       "Balance                     18159\n",
       "ShotPower                   18159\n",
       "Jumping                     18159\n",
       "Stamina                     18159\n",
       "Strength                    18159\n",
       "LongShots                   18159\n",
       "Aggression                  18159\n",
       "Interceptions               18159\n",
       "Positioning                 18159\n",
       "Vision                      18159\n",
       "Penalties                   18159\n",
       "Composure                   18159\n",
       "Marking                     18159\n",
       "StandingTackle              18159\n",
       "SlidingTackle               18159\n",
       "GKDiving                    18159\n",
       "GKHandling                  18159\n",
       "GKKicking                   18159\n",
       "GKPositioning               18159\n",
       "GKReflexes                  18159\n",
       "Release Clause              16643\n",
       "dtype: int64"
      ]
     },
     "execution_count": 11,
     "metadata": {},
     "output_type": "execute_result"
    }
   ],
   "source": [
    "data.count()"
   ]
  },
  {
   "cell_type": "code",
   "execution_count": 7,
   "id": "23ff6f4c",
   "metadata": {},
   "outputs": [
    {
     "data": {
      "text/plain": [
       "Index(['ID', 'Name', 'Age', 'Nationality', 'Overall', 'Potential', 'Club',\n",
       "       'Value', 'Wage', 'Preferred Foot', 'International Reputation',\n",
       "       'Weak Foot', 'Skill Moves', 'Work Rate', 'Body Type', 'Position',\n",
       "       'Jersey Number', 'Joined', 'Loaned From', 'Contract Valid Until',\n",
       "       'Height', 'Weight', 'Crossing', 'Finishing', 'HeadingAccuracy',\n",
       "       'ShortPassing', 'Volleys', 'Dribbling', 'Curve', 'FKAccuracy',\n",
       "       'LongPassing', 'BallControl', 'Acceleration', 'SprintSpeed', 'Agility',\n",
       "       'Reactions', 'Balance', 'ShotPower', 'Jumping', 'Stamina', 'Strength',\n",
       "       'LongShots', 'Aggression', 'Interceptions', 'Positioning', 'Vision',\n",
       "       'Penalties', 'Composure', 'Marking', 'StandingTackle', 'SlidingTackle',\n",
       "       'GKDiving', 'GKHandling', 'GKKicking', 'GKPositioning', 'GKReflexes',\n",
       "       'Release Clause'],\n",
       "      dtype='object')"
      ]
     },
     "execution_count": 7,
     "metadata": {},
     "output_type": "execute_result"
    }
   ],
   "source": [
    "data.columns\n"
   ]
  },
  {
   "cell_type": "markdown",
   "id": "286e9909",
   "metadata": {},
   "source": [
    "# Insert Barplot"
   ]
  },
  {
   "cell_type": "code",
   "execution_count": 12,
   "id": "7c55225a",
   "metadata": {},
   "outputs": [
    {
     "data": {
      "image/png": "[encoded data removed]",
      "text/plain": [
       "<Figure size 640x480 with 1 Axes>"
      ]
     },
     "metadata": {},
     "output_type": "display_data"
    }
   ],
   "source": [
    "sns.barplot(x='Age', y='Skill Moves', data=data)\n",
    "plt.show()"
   ]
  },
  {
   "cell_type": "markdown",
   "id": "5b0ab03a",
   "metadata": {},
   "source": [
    "# Exploratory data analysis"
   ]
  },
  {
   "cell_type": "code",
   "execution_count": null,
   "id": "565ae875",
   "metadata": {},
   "outputs": [],
   "source": [
    "Age wise which player has batter stamina:"
   ]
  },
  {
   "cell_type": "code",
   "execution_count": 6,
   "id": "26ceef13",
   "metadata": {},
   "outputs": [
    {
     "data": {
      "image/png": "[encoded data removed]",
      "text/plain": [
       "<Figure size 640x480 with 1 Axes>"
      ]
     },
     "metadata": {},
     "output_type": "display_data"
    }
   ],
   "source": [
    "sns.barplot(x='Age', y='Stamina', data = data)\n",
    "plt.show()"
   ]
  },
  {
   "cell_type": "code",
   "execution_count": null,
   "id": "8be379ce",
   "metadata": {},
   "outputs": [],
   "source": [
    "From barplot we can see that player at 28 Age has highest Stamina and otherside player who has age 44 has least Stamina.\n",
    "We can find that after age = 28 , Stamina got decresing with increasing in age."
   ]
  },
  {
   "cell_type": "markdown",
   "id": "a7e4290d",
   "metadata": {},
   "source": [
    "# Histogram"
   ]
  },
  {
   "cell_type": "code",
   "execution_count": 5,
   "id": "7ab95341",
   "metadata": {},
   "outputs": [
    {
     "data": {
      "image/png": "[encoded data removed]",
      "text/plain": [
       "<Figure size 500x500 with 1 Axes>"
      ]
     },
     "metadata": {},
     "output_type": "display_data"
    }
   ],
   "source": [
    "sns.displot(data['Age'])\n",
    "plt.show()"
   ]
  },
  {
   "cell_type": "code",
   "execution_count": 11,
   "id": "16e6044b",
   "metadata": {},
   "outputs": [
    {
     "data": {
      "image/png": "[encoded data removed]",
      "text/plain": [
       "<Figure size 500x500 with 1 Axes>"
      ]
     },
     "metadata": {},
     "output_type": "display_data"
    }
   ],
   "source": [
    "sns.displot(data['Acceleration'])\n",
    "plt.show()"
   ]
  },
  {
   "cell_type": "code",
   "execution_count": null,
   "id": "3c582f77",
   "metadata": {},
   "outputs": [],
   "source": [
    "Here We can see that player whose Acceleration between 60 to 80 got highest Acceleration."
   ]
  },
  {
   "cell_type": "code",
   "execution_count": 8,
   "id": "26040588",
   "metadata": {},
   "outputs": [
    {
     "data": {
      "image/png": "[encoded data removed]",
      "text/plain": [
       "<Figure size 1000x1000 with 1 Axes>"
      ]
     },
     "metadata": {},
     "output_type": "display_data"
    }
   ],
   "source": [
    "plt.figure(figsize=(10,10))\n",
    "sns.countplot(x = 'Overall', data = data)\n",
    "plt.show()"
   ]
  },
  {
   "cell_type": "markdown",
   "id": "106271b2",
   "metadata": {},
   "source": [
    "# correlation between two data"
   ]
  },
  {
   "cell_type": "code",
   "execution_count": 21,
   "id": "eae1ad97",
   "metadata": {},
   "outputs": [
    {
     "name": "stdout",
     "output_type": "stream",
     "text": [
      "0.0276488268287408\n"
     ]
    }
   ],
   "source": [
    "correlation = data['Age'].corr(data['Skill Moves'])\n",
    "print(correlation)"
   ]
  },
  {
   "cell_type": "code",
   "execution_count": 10,
   "id": "26024e6d",
   "metadata": {},
   "outputs": [
    {
     "name": "stdout",
     "output_type": "stream",
     "text": [
      "0.07576854264898651\n"
     ]
    }
   ],
   "source": [
    "correlation = data['Potential'].corr(data['Strength'])\n",
    "print(correlation)"
   ]
  }
 ],
 "metadata": {
  "kernelspec": {
   "display_name": "Python 3 (ipykernel)",
   "language": "python",
   "name": "python3"
  },
  "language_info": {
   "codemirror_mode": {
    "name": "ipython",
    "version": 3
   },
   "file_extension": ".py",
   "mimetype": "text/x-python",
   "name": "python",
   "nbconvert_exporter": "python",
   "pygments_lexer": "ipython3",
   "version": "3.10.9"
  }
 },
 "nbformat": 4,
 "nbformat_minor": 5
}
